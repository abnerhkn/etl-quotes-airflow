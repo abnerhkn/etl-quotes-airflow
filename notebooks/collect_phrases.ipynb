{
 "cells": [
  {
   "cell_type": "code",
   "execution_count": 16,
   "id": "09600c6a",
   "metadata": {},
   "outputs": [],
   "source": [
    "from datetime import datetime\n",
    "from airflow import DAG\n",
    "from airflow.operators.python import PythonOperator\n",
    "import requests\n",
    "from bs4 import BeautifulSoup\n",
    "import pandas as pd"
   ]
  },
  {
   "cell_type": "code",
   "execution_count": 17,
   "id": "227cb080",
   "metadata": {},
   "outputs": [
    {
     "name": "stdout",
     "output_type": "stream",
     "text": [
      "10 frases salvas em ../csvs/quotes.csv\n"
     ]
    }
   ],
   "source": [
    "def coletar_frases():\n",
    "    url = \"https://quotes.toscrape.com/\"\n",
    "    response = requests.get(url)\n",
    "    soup = BeautifulSoup(response.text, \"html.parser\")\n",
    "\n",
    "    dados = []\n",
    "    for quote in soup.select(\".quote\"):\n",
    "        texto = quote.select_one(\".text\").get_text(strip=True)\n",
    "        autor = quote.select_one(\".author\").get_text(strip=True)\n",
    "        dados.append({\"frase\": texto, \"autor\": autor})\n",
    "\n",
    "    df = pd.DataFrame(dados)\n",
    "    caminho_arquivo = \"../csvs/quotes.csv\"\n",
    "    df.to_csv(caminho_arquivo, index=False)\n",
    "    print(f\"{len(df)} frases salvas em {caminho_arquivo}\")\n",
    "    \n",
    "coletar_frases()"
   ]
  }
 ],
 "metadata": {
  "kernelspec": {
   "display_name": ".venv",
   "language": "python",
   "name": "python3"
  },
  "language_info": {
   "codemirror_mode": {
    "name": "ipython",
    "version": 3
   },
   "file_extension": ".py",
   "mimetype": "text/x-python",
   "name": "python",
   "nbconvert_exporter": "python",
   "pygments_lexer": "ipython3",
   "version": "3.10.12"
  }
 },
 "nbformat": 4,
 "nbformat_minor": 5
}
